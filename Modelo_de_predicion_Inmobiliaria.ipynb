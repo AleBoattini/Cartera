{
  "nbformat": 4,
  "nbformat_minor": 0,
  "metadata": {
    "colab": {
      "provenance": [],
      "authorship_tag": "ABX9TyP99x1dL6k6aGou0qgW5m0b"
    },
    "kernelspec": {
      "name": "python3",
      "display_name": "Python 3"
    },
    "language_info": {
      "name": "python"
    }
  },
  "cells": [
    {
      "cell_type": "markdown",
      "source": [
        "# Introduccion\n",
        "El  notebook se basa en un desafio de kaggle que consta en predecir el precio de una vivienda a partir de sus caracteristicas, el df cuenta con 79 caracteristicas propias de cada vivienda. "
      ],
      "metadata": {
        "id": "SzSk_WOzR6ym"
      }
    },
    {
      "cell_type": "markdown",
      "source": [
        "## Import Data"
      ],
      "metadata": {
        "id": "dcN8pVkvSOfl"
      }
    },
    {
      "cell_type": "code",
      "source": [
        "url_train='https://raw.githubusercontent.com/AleBoattini/DATASET/main/inmobiliaria_train.csv'\n",
        "url_test='https://raw.githubusercontent.com/AleBoattini/DATASET/main/inmobiliaria_test.csv'"
      ],
      "metadata": {
        "id": "SYHyVdGTu7nG"
      },
      "execution_count": 26,
      "outputs": []
    },
    {
      "cell_type": "code",
      "source": [
        "import pandas as pd\n",
        "import numpy as np\n",
        "import missingno as msno\n"
      ],
      "metadata": {
        "id": "XmR7PyrhUJVu"
      },
      "execution_count": 27,
      "outputs": []
    },
    {
      "cell_type": "code",
      "source": [
        "df_train=pd.read_csv(url_train, index_col='Id')\n",
        "df_test=pd.read_csv(url_test, index_col='Id')"
      ],
      "metadata": {
        "id": "iNfcHgAgUMt-"
      },
      "execution_count": 28,
      "outputs": []
    },
    {
      "cell_type": "code",
      "source": [
        "i_max=df_train.index.max()\n",
        "i_min=df_test.index.min()\n",
        "\n",
        "print(max,' ', min)"
      ],
      "metadata": {
        "colab": {
          "base_uri": "https://localhost:8080/"
        },
        "id": "9PQrLF81ZR9z",
        "outputId": "102fb4b7-5414-463d-8200-42d39997f3b7"
      },
      "execution_count": 29,
      "outputs": [
        {
          "output_type": "stream",
          "name": "stdout",
          "text": [
            "<built-in function max>   <built-in function min>\n"
          ]
        }
      ]
    },
    {
      "cell_type": "code",
      "source": [
        "df=pd.concat([df_train, df_test], axis=0)"
      ],
      "metadata": {
        "id": "6MMLqVVqa1dl"
      },
      "execution_count": 30,
      "outputs": []
    },
    {
      "cell_type": "markdown",
      "source": [
        "## EDA\n",
        "En general la etapa de EDA involucra un analisis de las variables y su comportamiento"
      ],
      "metadata": {
        "id": "nuEL2vKGSWTI"
      }
    },
    {
      "cell_type": "markdown",
      "source": [
        "Por el gran volumen de variables nos enfocaremos en buscar unicamente las columnas con valores nulos y ver como resolverlas para el correcto analisis."
      ],
      "metadata": {
        "id": "407g8RF1S6N4"
      }
    },
    {
      "cell_type": "code",
      "source": [
        "null_columns=df.columns[df.isnull().any()]\n",
        "null=df[null_columns].isnull().sum().sort_values()\n",
        "print('Lista de variables con valores nulos:\\n\\n',null)"
      ],
      "metadata": {
        "colab": {
          "base_uri": "https://localhost:8080/"
        },
        "id": "-vANegz6T_UW",
        "outputId": "c60375cc-dd80-467b-9529-f9f57299116e"
      },
      "execution_count": 31,
      "outputs": [
        {
          "output_type": "stream",
          "name": "stdout",
          "text": [
            "Lista de variables con valores nulos:\n",
            "\n",
            " Electrical         1\n",
            "GarageArea         1\n",
            "GarageCars         1\n",
            "Exterior1st        1\n",
            "Exterior2nd        1\n",
            "KitchenQual        1\n",
            "SaleType           1\n",
            "TotalBsmtSF        1\n",
            "BsmtFinSF1         1\n",
            "BsmtUnfSF          1\n",
            "BsmtFinSF2         1\n",
            "Utilities          2\n",
            "Functional         2\n",
            "BsmtHalfBath       2\n",
            "BsmtFullBath       2\n",
            "MSZoning           4\n",
            "MasVnrArea        23\n",
            "MasVnrType        24\n",
            "BsmtFinType1      79\n",
            "BsmtFinType2      80\n",
            "BsmtQual          81\n",
            "BsmtExposure      82\n",
            "BsmtCond          82\n",
            "GarageType       157\n",
            "GarageCond       159\n",
            "GarageQual       159\n",
            "GarageFinish     159\n",
            "GarageYrBlt      159\n",
            "LotFrontage      486\n",
            "FireplaceQu     1420\n",
            "SalePrice       1459\n",
            "Fence           2348\n",
            "Alley           2721\n",
            "MiscFeature     2814\n",
            "PoolQC          2909\n",
            "dtype: int64\n"
          ]
        }
      ]
    },
    {
      "cell_type": "markdown",
      "source": [
        "Grafica realizada con misigno para ver representada la lista de valores nulos:"
      ],
      "metadata": {
        "id": "YBrlAbpIZJyS"
      }
    },
    {
      "cell_type": "code",
      "source": [
        "msno.matrix(df[null.index])\n"
      ],
      "metadata": {
        "colab": {
          "base_uri": "https://localhost:8080/",
          "height": 664
        },
        "id": "vu2wduQuYVtz",
        "outputId": "4736d0bd-55d2-4b27-b296-0d4fdcd0d8e7"
      },
      "execution_count": 32,
      "outputs": [
        {
          "output_type": "execute_result",
          "data": {
            "text/plain": [
              "<AxesSubplot:>"
            ]
          },
          "metadata": {},
          "execution_count": 32
        },
        {
          "output_type": "display_data",
          "data": {
            "text/plain": [
              "<Figure size 1800x720 with 2 Axes>"
            ],
            "image/png": "[encoded data removed]"
          },
          "metadata": {
            "needs_background": "light"
          }
        }
      ]
    },
    {
      "cell_type": "markdown",
      "source": [
        "Separamos las columnas con valores nulos mayores al 80% de las entradas por un lado y las menores por el otro. Esto es porque a mayores faltantes de datos es mas inexacta la estimacion si queremos rellenarlos."
      ],
      "metadata": {
        "id": "g89HrHvKUWPV"
      }
    },
    {
      "cell_type": "code",
      "source": [
        "#TRAIN\n",
        "null_per=(null/df.shape[0])<0.8\n",
        "\n",
        "lista_1=null[null_per==True].index\n",
        "lista_2=null[null_per==False].index"
      ],
      "metadata": {
        "id": "8K7opyCs2Y0M"
      },
      "execution_count": 33,
      "outputs": []
    },
    {
      "cell_type": "markdown",
      "source": [
        "### Variables con nulos <80% "
      ],
      "metadata": {
        "id": "NNK5tYtJZvnX"
      }
    },
    {
      "cell_type": "markdown",
      "source": [
        "Observamos que tipos de informacion tienen cargadas las columnas:"
      ],
      "metadata": {
        "id": "tbGJ7LtNVWoi"
      }
    },
    {
      "cell_type": "code",
      "source": [
        "#Columnas con valores nulos menores al 80% del dataframe\n",
        "df[lista_1].info()"
      ],
      "metadata": {
        "colab": {
          "base_uri": "https://localhost:8080/"
        },
        "id": "NEZeKVUO9gqH",
        "outputId": "0c6ef3d2-735b-4336-bba7-1fa373217600"
      },
      "execution_count": 34,
      "outputs": [
        {
          "output_type": "stream",
          "name": "stdout",
          "text": [
            "<class 'pandas.core.frame.DataFrame'>\n",
            "Int64Index: 2919 entries, 1 to 2919\n",
            "Data columns (total 31 columns):\n",
            " #   Column        Non-Null Count  Dtype  \n",
            "---  ------        --------------  -----  \n",
            " 0   Electrical    2918 non-null   object \n",
            " 1   GarageArea    2918 non-null   float64\n",
            " 2   GarageCars    2918 non-null   float64\n",
            " 3   Exterior1st   2918 non-null   object \n",
            " 4   Exterior2nd   2918 non-null   object \n",
            " 5   KitchenQual   2918 non-null   object \n",
            " 6   SaleType      2918 non-null   object \n",
            " 7   TotalBsmtSF   2918 non-null   float64\n",
            " 8   BsmtFinSF1    2918 non-null   float64\n",
            " 9   BsmtUnfSF     2918 non-null   float64\n",
            " 10  BsmtFinSF2    2918 non-null   float64\n",
            " 11  Utilities     2917 non-null   object \n",
            " 12  Functional    2917 non-null   object \n",
            " 13  BsmtHalfBath  2917 non-null   float64\n",
            " 14  BsmtFullBath  2917 non-null   float64\n",
            " 15  MSZoning      2915 non-null   object \n",
            " 16  MasVnrArea    2896 non-null   float64\n",
            " 17  MasVnrType    2895 non-null   object \n",
            " 18  BsmtFinType1  2840 non-null   object \n",
            " 19  BsmtFinType2  2839 non-null   object \n",
            " 20  BsmtQual      2838 non-null   object \n",
            " 21  BsmtExposure  2837 non-null   object \n",
            " 22  BsmtCond      2837 non-null   object \n",
            " 23  GarageType    2762 non-null   object \n",
            " 24  GarageCond    2760 non-null   object \n",
            " 25  GarageQual    2760 non-null   object \n",
            " 26  GarageFinish  2760 non-null   object \n",
            " 27  GarageYrBlt   2760 non-null   float64\n",
            " 28  LotFrontage   2433 non-null   float64\n",
            " 29  FireplaceQu   1499 non-null   object \n",
            " 30  SalePrice     1460 non-null   float64\n",
            "dtypes: float64(12), object(19)\n",
            "memory usage: 729.8+ KB\n"
          ]
        }
      ]
    },
    {
      "cell_type": "markdown",
      "source": [
        "EL motivo de haber realizo los rellenos de forma individual es que en varias variables el valor nulo daba informacion, no la omitia:"
      ],
      "metadata": {
        "id": "qcUJKpx7VejU"
      }
    },
    {
      "cell_type": "code",
      "source": [
        "df['Electrical'].fillna(df['Electrical'].mode()[0], inplace=True)\n",
        "df['MasVnrType'].fillna(df['MasVnrType'].mode()[0], inplace=True)\n",
        "df['BsmtQual'].fillna('Does not have', inplace=True)\n",
        "df['BsmtCond'].fillna('Does not have', inplace=True)\n",
        "df['BsmtFinType1'].fillna('Does not have', inplace=True)\n",
        "df['BsmtExposure'].fillna('Does not have', inplace=True)\n",
        "df['BsmtFinType2'].fillna('Does not have', inplace=True)\n",
        "df['GarageCond'].fillna('Does not have', inplace=True)\n",
        "df['GarageQual'].fillna('Does not have', inplace=True)\n",
        "df['GarageFinish'].fillna('Does not have', inplace=True)\n",
        "df['GarageType'].fillna('Does not have', inplace=True)\n",
        "df['FireplaceQu'].fillna('Does not have', inplace=True)\n"
      ],
      "metadata": {
        "id": "hvNJhZiHQWZh"
      },
      "execution_count": 35,
      "outputs": []
    },
    {
      "cell_type": "markdown",
      "source": [
        "Rellenamos las variables de tipo numerica con el promedio de igual forma que las anteriores:"
      ],
      "metadata": {
        "id": "Kr12SbtgX7xL"
      }
    },
    {
      "cell_type": "code",
      "source": [
        "lista1_float=df[lista_1].select_dtypes(include=['float64']).columns"
      ],
      "metadata": {
        "id": "mkyEKwWkWyx7"
      },
      "execution_count": 36,
      "outputs": []
    },
    {
      "cell_type": "code",
      "source": [
        "for i in lista1_float:\n",
        "  media=df[i].mean()\n",
        "  df[i].fillna(media, inplace=True)"
      ],
      "metadata": {
        "id": "P_BZgIEZXKhu"
      },
      "execution_count": 37,
      "outputs": []
    },
    {
      "cell_type": "markdown",
      "source": [
        "### Variables con nulos >80%"
      ],
      "metadata": {
        "id": "3zJTvIzwZ4hO"
      }
    },
    {
      "cell_type": "code",
      "source": [
        "print(lista_2)"
      ],
      "metadata": {
        "colab": {
          "base_uri": "https://localhost:8080/"
        },
        "id": "PxGC_5f9Z7uj",
        "outputId": "ca1bf587-e261-4b0c-b479-0c795ac41094"
      },
      "execution_count": 38,
      "outputs": [
        {
          "output_type": "stream",
          "name": "stdout",
          "text": [
            "Index(['Fence', 'Alley', 'MiscFeature', 'PoolQC'], dtype='object')\n"
          ]
        }
      ]
    },
    {
      "cell_type": "markdown",
      "source": [
        "\n",
        "\n",
        "*   Alley: Representa si el suelo es de grava o pavimentado (los valores nulos  representan la falta de informacion)\n",
        "\n",
        "*   PoolQC: Representa la calidad de la piscina (los valores es xq no tienen piscina)\n",
        "\n",
        "*   Fence: Representa la calidad de la valla (nulos = sin valla)\n",
        "\n",
        "*   MiscFeature: Caracteristica extra no mencionada anteriormente\n",
        "\n"
      ],
      "metadata": {
        "id": "qQhlP7EYarM9"
      }
    },
    {
      "cell_type": "markdown",
      "source": [
        "Con esta informacion asumimos borrar la variable 'Alley' y a las otras rellenar los nulos con una nuevo dato que lo represente"
      ],
      "metadata": {
        "id": "Cjm7ZQtpcAJ3"
      }
    },
    {
      "cell_type": "code",
      "source": [
        "df.drop('Alley', axis=1, inplace=True)\n",
        "df['PoolQC'].fillna('Does not have', inplace=True)\n",
        "df['Fence'].fillna('Does not have', inplace=True)\n",
        "df['MiscFeature'].fillna('Does not have', inplace=True)"
      ],
      "metadata": {
        "id": "LTcW1Ru4Z-DZ"
      },
      "execution_count": 39,
      "outputs": []
    },
    {
      "cell_type": "markdown",
      "source": [
        "### Variables categoricas a numeros\n",
        "Para poder aplicar modelos de ML sin mayores problemas debemos hacer que todas las variables categoricas sean un valor numerico.\n",
        "Una forma es usar la funcion get_dummies() pero la misma crea una nueva variable binaria por cada variable categorica, por lo que el df pasara a tener al menos 300 columnas luego de aplicar esta tecnica. \n",
        "Por otro lado existe la funcion de labelencoder de Sklearn que nos permite cambiar la categoria por un valor numerico. Probaremos esta ultima forma y veremos el comportamiento. "
      ],
      "metadata": {
        "id": "eVeo80fxc1Yo"
      }
    },
    {
      "cell_type": "code",
      "source": [
        "variables_objetc=df.select_dtypes(include=['object']).columns"
      ],
      "metadata": {
        "id": "tzevJKHbeIlo"
      },
      "execution_count": 40,
      "outputs": []
    },
    {
      "cell_type": "code",
      "source": [
        "from sklearn.preprocessing import LabelEncoder\n",
        "df_norm=df.copy()\n",
        "for i in variables_objetc:\n",
        "  le = LabelEncoder().fit(df[i])\n",
        "  name=i + '_encoder'\n",
        "  df_norm[name]=le.transform(df[i])"
      ],
      "metadata": {
        "id": "NlwGi5lIfAXD"
      },
      "execution_count": 41,
      "outputs": []
    },
    {
      "cell_type": "code",
      "source": [
        "df_norm=df_norm.drop(variables_objetc, axis=1)"
      ],
      "metadata": {
        "id": "CiVQ1410fXfb"
      },
      "execution_count": 42,
      "outputs": []
    },
    {
      "cell_type": "code",
      "source": [
        "df_norm.sample(2)"
      ],
      "metadata": {
        "colab": {
          "base_uri": "https://localhost:8080/",
          "height": 237
        },
        "id": "-uqEWlFCg3Mw",
        "outputId": "67994acd-d5ff-4bff-f68b-5949371526f2"
      },
      "execution_count": 43,
      "outputs": [
        {
          "output_type": "execute_result",
          "data": {
            "text/plain": [
              "      MSSubClass  LotFrontage  LotArea  OverallQual  OverallCond  YearBuilt  \\\n",
              "Id                                                                            \n",
              "37            20        112.0    10859            5            5       1994   \n",
              "1383          70         60.0     7200            7            7       1920   \n",
              "\n",
              "      YearRemodAdd  MasVnrArea  BsmtFinSF1  BsmtFinSF2  ...  \\\n",
              "Id                                                      ...   \n",
              "37            1995         0.0         0.0         0.0  ...   \n",
              "1383          1950         0.0         0.0         0.0  ...   \n",
              "\n",
              "      GarageType_encoder  GarageFinish_encoder  GarageQual_encoder  \\\n",
              "Id                                                                   \n",
              "37                     1                     3                   5   \n",
              "1383                   5                     3                   5   \n",
              "\n",
              "      GarageCond_encoder  PavedDrive_encoder  PoolQC_encoder  Fence_encoder  \\\n",
              "Id                                                                            \n",
              "37                     5                   2               0              0   \n",
              "1383                   5                   0               0              0   \n",
              "\n",
              "      MiscFeature_encoder  SaleType_encoder  SaleCondition_encoder  \n",
              "Id                                                                  \n",
              "37                      0                 8                      4  \n",
              "1383                    0                 8                      4  \n",
              "\n",
              "[2 rows x 79 columns]"
            ],
            "text/html": [
              "\n",
              "  <div id=\"df-0421fe65-0eb2-4390-a4f1-8ec93e4a6d37\">\n",
              "    <div class=\"colab-df-container\">\n",
              "      <div>\n",
              "<style scoped>\n",
              "    .dataframe tbody tr th:only-of-type {\n",
              "        vertical-align: middle;\n",
              "    }\n",
              "\n",
              "    .dataframe tbody tr th {\n",
              "        vertical-align: top;\n",
              "    }\n",
              "\n",
              "    .dataframe thead th {\n",
              "        text-align: right;\n",
              "    }\n",
              "</style>\n",
              "<table border=\"1\" class=\"dataframe\">\n",
              "  <thead>\n",
              "    <tr style=\"text-align: right;\">\n",
              "      <th></th>\n",
              "      <th>MSSubClass</th>\n",
              "      <th>LotFrontage</th>\n",
              "      <th>LotArea</th>\n",
              "      <th>OverallQual</th>\n",
              "      <th>OverallCond</th>\n",
              "      <th>YearBuilt</th>\n",
              "      <th>YearRemodAdd</th>\n",
              "      <th>MasVnrArea</th>\n",
              "      <th>BsmtFinSF1</th>\n",
              "      <th>BsmtFinSF2</th>\n",
              "      <th>...</th>\n",
              "      <th>GarageType_encoder</th>\n",
              "      <th>GarageFinish_encoder</th>\n",
              "      <th>GarageQual_encoder</th>\n",
              "      <th>GarageCond_encoder</th>\n",
              "      <th>PavedDrive_encoder</th>\n",
              "      <th>PoolQC_encoder</th>\n",
              "      <th>Fence_encoder</th>\n",
              "      <th>MiscFeature_encoder</th>\n",
              "      <th>SaleType_encoder</th>\n",
              "      <th>SaleCondition_encoder</th>\n",
              "    </tr>\n",
              "    <tr>\n",
              "      <th>Id</th>\n",
              "      <th></th>\n",
              "      <th></th>\n",
              "      <th></th>\n",
              "      <th></th>\n",
              "      <th></th>\n",
              "      <th></th>\n",
              "      <th></th>\n",
              "      <th></th>\n",
              "      <th></th>\n",
              "      <th></th>\n",
              "      <th></th>\n",
              "      <th></th>\n",
              "      <th></th>\n",
              "      <th></th>\n",
              "      <th></th>\n",
              "      <th></th>\n",
              "      <th></th>\n",
              "      <th></th>\n",
              "      <th></th>\n",
              "      <th></th>\n",
              "      <th></th>\n",
              "    </tr>\n",
              "  </thead>\n",
              "  <tbody>\n",
              "    <tr>\n",
              "      <th>37</th>\n",
              "      <td>20</td>\n",
              "      <td>112.0</td>\n",
              "      <td>10859</td>\n",
              "      <td>5</td>\n",
              "      <td>5</td>\n",
              "      <td>1994</td>\n",
              "      <td>1995</td>\n",
              "      <td>0.0</td>\n",
              "      <td>0.0</td>\n",
              "      <td>0.0</td>\n",
              "      <td>...</td>\n",
              "      <td>1</td>\n",
              "      <td>3</td>\n",
              "      <td>5</td>\n",
              "      <td>5</td>\n",
              "      <td>2</td>\n",
              "      <td>0</td>\n",
              "      <td>0</td>\n",
              "      <td>0</td>\n",
              "      <td>8</td>\n",
              "      <td>4</td>\n",
              "    </tr>\n",
              "    <tr>\n",
              "      <th>1383</th>\n",
              "      <td>70</td>\n",
              "      <td>60.0</td>\n",
              "      <td>7200</td>\n",
              "      <td>7</td>\n",
              "      <td>7</td>\n",
              "      <td>1920</td>\n",
              "      <td>1950</td>\n",
              "      <td>0.0</td>\n",
              "      <td>0.0</td>\n",
              "      <td>0.0</td>\n",
              "      <td>...</td>\n",
              "      <td>5</td>\n",
              "      <td>3</td>\n",
              "      <td>5</td>\n",
              "      <td>5</td>\n",
              "      <td>0</td>\n",
              "      <td>0</td>\n",
              "      <td>0</td>\n",
              "      <td>0</td>\n",
              "      <td>8</td>\n",
              "      <td>4</td>\n",
              "    </tr>\n",
              "  </tbody>\n",
              "</table>\n",
              "<p>2 rows × 79 columns</p>\n",
              "</div>\n",
              "      <button class=\"colab-df-convert\" onclick=\"convertToInteractive('df-0421fe65-0eb2-4390-a4f1-8ec93e4a6d37')\"\n",
              "              title=\"Convert this dataframe to an interactive table.\"\n",
              "              style=\"display:none;\">\n",
              "        \n",
              "  <svg xmlns=\"http://www.w3.org/2000/svg\" height=\"24px\"viewBox=\"0 0 24 24\"\n",
              "       width=\"24px\">\n",
              "    <path d=\"M0 0h24v24H0V0z\" fill=\"none\"/>\n",
              "    <path d=\"M18.56 5.44l.94 2.06.94-2.06 2.06-.94-2.06-.94-.94-2.06-.94 2.06-2.06.94zm-11 1L8.5 8.5l.94-2.06 2.06-.94-2.06-.94L8.5 2.5l-.94 2.06-2.06.94zm10 10l.94 2.06.94-2.06 2.06-.94-2.06-.94-.94-2.06-.94 2.06-2.06.94z\"/><path d=\"M17.41 7.96l-1.37-1.37c-.4-.4-.92-.59-1.43-.59-.52 0-1.04.2-1.43.59L10.3 9.45l-7.72 7.72c-.78.78-.78 2.05 0 2.83L4 21.41c.39.39.9.59 1.41.59.51 0 1.02-.2 1.41-.59l7.78-7.78 2.81-2.81c.8-.78.8-2.07 0-2.86zM5.41 20L4 18.59l7.72-7.72 1.47 1.35L5.41 20z\"/>\n",
              "  </svg>\n",
              "      </button>\n",
              "      \n",
              "  <style>\n",
              "    .colab-df-container {\n",
              "      display:flex;\n",
              "      flex-wrap:wrap;\n",
              "      gap: 12px;\n",
              "    }\n",
              "\n",
              "    .colab-df-convert {\n",
              "      background-color: #E8F0FE;\n",
              "      border: none;\n",
              "      border-radius: 50%;\n",
              "      cursor: pointer;\n",
              "      display: none;\n",
              "      fill: #1967D2;\n",
              "      height: 32px;\n",
              "      padding: 0 0 0 0;\n",
              "      width: 32px;\n",
              "    }\n",
              "\n",
              "    .colab-df-convert:hover {\n",
              "      background-color: #E2EBFA;\n",
              "      box-shadow: 0px 1px 2px rgba(60, 64, 67, 0.3), 0px 1px 3px 1px rgba(60, 64, 67, 0.15);\n",
              "      fill: #174EA6;\n",
              "    }\n",
              "\n",
              "    [theme=dark] .colab-df-convert {\n",
              "      background-color: #3B4455;\n",
              "      fill: #D2E3FC;\n",
              "    }\n",
              "\n",
              "    [theme=dark] .colab-df-convert:hover {\n",
              "      background-color: #434B5C;\n",
              "      box-shadow: 0px 1px 3px 1px rgba(0, 0, 0, 0.15);\n",
              "      filter: drop-shadow(0px 1px 2px rgba(0, 0, 0, 0.3));\n",
              "      fill: #FFFFFF;\n",
              "    }\n",
              "  </style>\n",
              "\n",
              "      <script>\n",
              "        const buttonEl =\n",
              "          document.querySelector('#df-0421fe65-0eb2-4390-a4f1-8ec93e4a6d37 button.colab-df-convert');\n",
              "        buttonEl.style.display =\n",
              "          google.colab.kernel.accessAllowed ? 'block' : 'none';\n",
              "\n",
              "        async function convertToInteractive(key) {\n",
              "          const element = document.querySelector('#df-0421fe65-0eb2-4390-a4f1-8ec93e4a6d37');\n",
              "          const dataTable =\n",
              "            await google.colab.kernel.invokeFunction('convertToInteractive',\n",
              "                                                     [key], {});\n",
              "          if (!dataTable) return;\n",
              "\n",
              "          const docLinkHtml = 'Like what you see? Visit the ' +\n",
              "            '<a target=\"_blank\" href=https://colab.research.google.com/notebooks/data_table.ipynb>data table notebook</a>'\n",
              "            + ' to learn more about interactive tables.';\n",
              "          element.innerHTML = '';\n",
              "          dataTable['output_type'] = 'display_data';\n",
              "          await google.colab.output.renderOutput(dataTable, element);\n",
              "          const docLink = document.createElement('div');\n",
              "          docLink.innerHTML = docLinkHtml;\n",
              "          element.appendChild(docLink);\n",
              "        }\n",
              "      </script>\n",
              "    </div>\n",
              "  </div>\n",
              "  "
            ]
          },
          "metadata": {},
          "execution_count": 43
        }
      ]
    },
    {
      "cell_type": "code",
      "source": [
        "df_train = df_norm.iloc[:len(df_train)]\n",
        "df_test = df_norm.iloc[len(df_train):]\n",
        "df_test.drop(['SalePrice'],axis=1,inplace=True)"
      ],
      "metadata": {
        "colab": {
          "base_uri": "https://localhost:8080/"
        },
        "id": "fXu_wDS2hM9h",
        "outputId": "d9f8211e-ea6d-4114-c143-c6675b0eb7ae"
      },
      "execution_count": 44,
      "outputs": [
        {
          "output_type": "stream",
          "name": "stderr",
          "text": [
            "/usr/local/lib/python3.8/dist-packages/pandas/core/frame.py:4906: SettingWithCopyWarning: \n",
            "A value is trying to be set on a copy of a slice from a DataFrame\n",
            "\n",
            "See the caveats in the documentation: https://pandas.pydata.org/pandas-docs/stable/user_guide/indexing.html#returning-a-view-versus-a-copy\n",
            "  return super().drop(\n"
          ]
        }
      ]
    },
    {
      "cell_type": "markdown",
      "source": [
        "# Modelo de prediccion\n",
        "Podemos probar varios modelos en esta ocacion y ver cual se ajusta mejor"
      ],
      "metadata": {
        "id": "B-tIJAlllFlt"
      }
    },
    {
      "cell_type": "code",
      "source": [
        "# Separación de variables independientes y dependiente\n",
        "X = df_train.drop('SalePrice', axis=1)\n",
        "y = df_train['SalePrice']"
      ],
      "metadata": {
        "id": "8VeOWBNDfzbN"
      },
      "execution_count": 45,
      "outputs": []
    },
    {
      "cell_type": "code",
      "source": [
        "# Importación de librerías\n",
        "import pandas as pd\n",
        "from sklearn.tree import DecisionTreeRegressor\n",
        "from sklearn.linear_model import LinearRegression\n",
        "from sklearn.svm import SVR\n",
        "from sklearn.ensemble import RandomForestRegressor\n",
        "from sklearn.model_selection import train_test_split\n",
        "from sklearn.metrics import mean_squared_error, r2_score\n",
        "from sklearn.neighbors import KNeighborsClassifier\n",
        "from sklearn.ensemble import GradientBoostingRegressor\n",
        "from sklearn.ensemble import AdaBoostRegressor\n",
        "\n",
        "\n",
        "\n",
        "# División de los datos en conjunto de entrenamiento y conjunto de prueba\n",
        "X_train, X_test, y_train, y_test = train_test_split(X, y, test_size=0.15, random_state=0)\n",
        "\n",
        "# Aplicación de los modelos\n",
        "models = {'Árbol de decisión': DecisionTreeRegressor(random_state=412),\n",
        "          'Regresión Lineal': LinearRegression(),\n",
        "          'SVM': SVR(),\n",
        "          'Random Forest': RandomForestRegressor(random_state=412), \n",
        "          'KNN': KNeighborsClassifier(),\n",
        "          'GBR': GradientBoostingRegressor(n_estimators=100, random_state=412),\n",
        "          'ABR': AdaBoostRegressor(n_estimators=100, random_state=412)}\n",
        "\n",
        "mse_list = []\n",
        "r2_list = []\n",
        "\n",
        "for name, model in models.items():\n",
        "    # Entrenamiento del modelo\n",
        "    model.fit(X_train, y_train)\n",
        "    \n",
        "    # Predicción del conjunto de prueba\n",
        "    y_pred = model.predict(X_test)\n",
        "    \n",
        "    # Cálculo del error cuadrático medio y del coeficiente de determinación\n",
        "    mse = mean_squared_error(y_test, y_pred)\n",
        "    r2 = r2_score(y_test, y_pred)\n",
        "    \n",
        "    # Añadir los valores a las listas\n",
        "    mse_list.append(mse)\n",
        "    r2_list.append(r2)\n",
        "    \n",
        "# Creación de la tabla de comparación\n",
        "table = pd.DataFrame({'Modelo': list(models.keys()),\n",
        "                      'Error cuadrático medio': mse_list,\n",
        "                      'Coeficiente de determinacion': r2_list})\n",
        "table.sort_values('Coeficiente de determinacion', ascending=False)\n"
      ],
      "metadata": {
        "colab": {
          "base_uri": "https://localhost:8080/",
          "height": 269
        },
        "id": "3A4cglc2tm94",
        "outputId": "bb80850f-a770-43da-f74a-947b5ff2a82a"
      },
      "execution_count": 57,
      "outputs": [
        {
          "output_type": "execute_result",
          "data": {
            "text/plain": [
              "              Modelo  Error cuadrático medio  Coeficiente de determinacion\n",
              "5                GBR            6.654852e+08                      0.891719\n",
              "3      Random Forest            7.073279e+08                      0.884911\n",
              "1   Regresión Lineal            8.380008e+08                      0.863649\n",
              "6                ABR            1.085543e+09                      0.823372\n",
              "0  Árbol de decisión            1.268369e+09                      0.793624\n",
              "4                KNN            4.934315e+09                      0.197138\n",
              "2                SVM            6.404581e+09                     -0.042088"
            ],
            "text/html": [
              "\n",
              "  <div id=\"df-fb69ad79-2770-4193-b190-f80f7c18afc3\">\n",
              "    <div class=\"colab-df-container\">\n",
              "      <div>\n",
              "<style scoped>\n",
              "    .dataframe tbody tr th:only-of-type {\n",
              "        vertical-align: middle;\n",
              "    }\n",
              "\n",
              "    .dataframe tbody tr th {\n",
              "        vertical-align: top;\n",
              "    }\n",
              "\n",
              "    .dataframe thead th {\n",
              "        text-align: right;\n",
              "    }\n",
              "</style>\n",
              "<table border=\"1\" class=\"dataframe\">\n",
              "  <thead>\n",
              "    <tr style=\"text-align: right;\">\n",
              "      <th></th>\n",
              "      <th>Modelo</th>\n",
              "      <th>Error cuadrático medio</th>\n",
              "      <th>Coeficiente de determinacion</th>\n",
              "    </tr>\n",
              "  </thead>\n",
              "  <tbody>\n",
              "    <tr>\n",
              "      <th>5</th>\n",
              "      <td>GBR</td>\n",
              "      <td>6.654852e+08</td>\n",
              "      <td>0.891719</td>\n",
              "    </tr>\n",
              "    <tr>\n",
              "      <th>3</th>\n",
              "      <td>Random Forest</td>\n",
              "      <td>7.073279e+08</td>\n",
              "      <td>0.884911</td>\n",
              "    </tr>\n",
              "    <tr>\n",
              "      <th>1</th>\n",
              "      <td>Regresión Lineal</td>\n",
              "      <td>8.380008e+08</td>\n",
              "      <td>0.863649</td>\n",
              "    </tr>\n",
              "    <tr>\n",
              "      <th>6</th>\n",
              "      <td>ABR</td>\n",
              "      <td>1.085543e+09</td>\n",
              "      <td>0.823372</td>\n",
              "    </tr>\n",
              "    <tr>\n",
              "      <th>0</th>\n",
              "      <td>Árbol de decisión</td>\n",
              "      <td>1.268369e+09</td>\n",
              "      <td>0.793624</td>\n",
              "    </tr>\n",
              "    <tr>\n",
              "      <th>4</th>\n",
              "      <td>KNN</td>\n",
              "      <td>4.934315e+09</td>\n",
              "      <td>0.197138</td>\n",
              "    </tr>\n",
              "    <tr>\n",
              "      <th>2</th>\n",
              "      <td>SVM</td>\n",
              "      <td>6.404581e+09</td>\n",
              "      <td>-0.042088</td>\n",
              "    </tr>\n",
              "  </tbody>\n",
              "</table>\n",
              "</div>\n",
              "      <button class=\"colab-df-convert\" onclick=\"convertToInteractive('df-fb69ad79-2770-4193-b190-f80f7c18afc3')\"\n",
              "              title=\"Convert this dataframe to an interactive table.\"\n",
              "              style=\"display:none;\">\n",
              "        \n",
              "  <svg xmlns=\"http://www.w3.org/2000/svg\" height=\"24px\"viewBox=\"0 0 24 24\"\n",
              "       width=\"24px\">\n",
              "    <path d=\"M0 0h24v24H0V0z\" fill=\"none\"/>\n",
              "    <path d=\"M18.56 5.44l.94 2.06.94-2.06 2.06-.94-2.06-.94-.94-2.06-.94 2.06-2.06.94zm-11 1L8.5 8.5l.94-2.06 2.06-.94-2.06-.94L8.5 2.5l-.94 2.06-2.06.94zm10 10l.94 2.06.94-2.06 2.06-.94-2.06-.94-.94-2.06-.94 2.06-2.06.94z\"/><path d=\"M17.41 7.96l-1.37-1.37c-.4-.4-.92-.59-1.43-.59-.52 0-1.04.2-1.43.59L10.3 9.45l-7.72 7.72c-.78.78-.78 2.05 0 2.83L4 21.41c.39.39.9.59 1.41.59.51 0 1.02-.2 1.41-.59l7.78-7.78 2.81-2.81c.8-.78.8-2.07 0-2.86zM5.41 20L4 18.59l7.72-7.72 1.47 1.35L5.41 20z\"/>\n",
              "  </svg>\n",
              "      </button>\n",
              "      \n",
              "  <style>\n",
              "    .colab-df-container {\n",
              "      display:flex;\n",
              "      flex-wrap:wrap;\n",
              "      gap: 12px;\n",
              "    }\n",
              "\n",
              "    .colab-df-convert {\n",
              "      background-color: #E8F0FE;\n",
              "      border: none;\n",
              "      border-radius: 50%;\n",
              "      cursor: pointer;\n",
              "      display: none;\n",
              "      fill: #1967D2;\n",
              "      height: 32px;\n",
              "      padding: 0 0 0 0;\n",
              "      width: 32px;\n",
              "    }\n",
              "\n",
              "    .colab-df-convert:hover {\n",
              "      background-color: #E2EBFA;\n",
              "      box-shadow: 0px 1px 2px rgba(60, 64, 67, 0.3), 0px 1px 3px 1px rgba(60, 64, 67, 0.15);\n",
              "      fill: #174EA6;\n",
              "    }\n",
              "\n",
              "    [theme=dark] .colab-df-convert {\n",
              "      background-color: #3B4455;\n",
              "      fill: #D2E3FC;\n",
              "    }\n",
              "\n",
              "    [theme=dark] .colab-df-convert:hover {\n",
              "      background-color: #434B5C;\n",
              "      box-shadow: 0px 1px 3px 1px rgba(0, 0, 0, 0.15);\n",
              "      filter: drop-shadow(0px 1px 2px rgba(0, 0, 0, 0.3));\n",
              "      fill: #FFFFFF;\n",
              "    }\n",
              "  </style>\n",
              "\n",
              "      <script>\n",
              "        const buttonEl =\n",
              "          document.querySelector('#df-fb69ad79-2770-4193-b190-f80f7c18afc3 button.colab-df-convert');\n",
              "        buttonEl.style.display =\n",
              "          google.colab.kernel.accessAllowed ? 'block' : 'none';\n",
              "\n",
              "        async function convertToInteractive(key) {\n",
              "          const element = document.querySelector('#df-fb69ad79-2770-4193-b190-f80f7c18afc3');\n",
              "          const dataTable =\n",
              "            await google.colab.kernel.invokeFunction('convertToInteractive',\n",
              "                                                     [key], {});\n",
              "          if (!dataTable) return;\n",
              "\n",
              "          const docLinkHtml = 'Like what you see? Visit the ' +\n",
              "            '<a target=\"_blank\" href=https://colab.research.google.com/notebooks/data_table.ipynb>data table notebook</a>'\n",
              "            + ' to learn more about interactive tables.';\n",
              "          element.innerHTML = '';\n",
              "          dataTable['output_type'] = 'display_data';\n",
              "          await google.colab.output.renderOutput(dataTable, element);\n",
              "          const docLink = document.createElement('div');\n",
              "          docLink.innerHTML = docLinkHtml;\n",
              "          element.appendChild(docLink);\n",
              "        }\n",
              "      </script>\n",
              "    </div>\n",
              "  </div>\n",
              "  "
            ]
          },
          "metadata": {},
          "execution_count": 57
        }
      ]
    },
    {
      "cell_type": "markdown",
      "source": [
        "Vemos que los modelos que mejor se ajustan son el de Gradient Boost Regressor y el de Ramdom Forest."
      ],
      "metadata": {
        "id": "fc03F-qbkD2K"
      }
    },
    {
      "cell_type": "markdown",
      "source": [
        "# Prediccion y Entrega"
      ],
      "metadata": {
        "id": "6SLenveskSWL"
      }
    },
    {
      "cell_type": "code",
      "source": [
        "GBR=GradientBoostingRegressor(n_estimators=100, random_state=412)\n",
        "X=df_train.drop('SalePrice', axis=1)\n",
        "y=df_train['SalePrice']\n",
        "\n",
        "GBR.fit(X,y)\n",
        "\n",
        "SalePrice=GBR.predict(df_test)"
      ],
      "metadata": {
        "id": "HUpA_wQk0lM1"
      },
      "execution_count": 58,
      "outputs": []
    },
    {
      "cell_type": "code",
      "source": [
        "df_test['SalePrice']=SalePrice\n",
        "df_test['SalePrice']"
      ],
      "metadata": {
        "colab": {
          "base_uri": "https://localhost:8080/"
        },
        "id": "-jRP-Eu2m64k",
        "outputId": "c5ae48ce-734a-49da-9ad7-fcfba2d3d046"
      },
      "execution_count": 60,
      "outputs": [
        {
          "output_type": "stream",
          "name": "stderr",
          "text": [
            "<ipython-input-60-77e7e8eda3d0>:1: SettingWithCopyWarning: \n",
            "A value is trying to be set on a copy of a slice from a DataFrame.\n",
            "Try using .loc[row_indexer,col_indexer] = value instead\n",
            "\n",
            "See the caveats in the documentation: https://pandas.pydata.org/pandas-docs/stable/user_guide/indexing.html#returning-a-view-versus-a-copy\n",
            "  df_test['SalePrice']=SalePrice\n"
          ]
        },
        {
          "output_type": "execute_result",
          "data": {
            "text/plain": [
              "Id\n",
              "1461    123655.908523\n",
              "1462    163226.121226\n",
              "1463    177552.245794\n",
              "1464    178119.898535\n",
              "1465    196093.490399\n",
              "            ...      \n",
              "2915     82847.135843\n",
              "2916     80991.102622\n",
              "2917    160118.169410\n",
              "2918    116966.378253\n",
              "2919    239160.470799\n",
              "Name: SalePrice, Length: 1459, dtype: float64"
            ]
          },
          "metadata": {},
          "execution_count": 60
        }
      ]
    },
    {
      "cell_type": "code",
      "source": [
        "Entrega=df_test['SalePrice']\n",
        "Entrega.to_csv('SalePrice.csv', mode='a', header=True, index=True)"
      ],
      "metadata": {
        "id": "d8lOFHkhm9lS"
      },
      "execution_count": 61,
      "outputs": []
    },
    {
      "cell_type": "code",
      "source": [],
      "metadata": {
        "id": "97eFTCgSoaBZ"
      },
      "execution_count": null,
      "outputs": []
    }
  ]
}