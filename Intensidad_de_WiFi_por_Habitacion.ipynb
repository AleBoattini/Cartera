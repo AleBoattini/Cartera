{
  "nbformat": 4,
  "nbformat_minor": 0,
  "metadata": {
    "colab": {
      "provenance": [],
      "authorship_tag": "ABX9TyNn2VySbD0JdXuWtgk0ikpD"
    },
    "kernelspec": {
      "name": "python3",
      "display_name": "Python 3"
    },
    "language_info": {
      "name": "python"
    }
  },
  "cells": [
    {
      "cell_type": "markdown",
      "source": [
        "# Datos de intensidades de señal WiFi por Habitacion"
      ],
      "metadata": {
        "id": "QW7v7UshEaS6"
      }
    },
    {
      "cell_type": "markdown",
      "source": [
        "El DataFrame obtenido representa una muestra de datos de intensidades de señales WiFi en una casa de 4 habitaciones. Tiene un total de 2000 muestras (500 muestras por habitacion). Cuenta asi con 8 columnas en total donde las 7 primeras son las antenas y la ultima son las habitaciones. \n",
        "\n",
        "El objetivo del analisis sera ver la precision con la que se puede ubicar dichas habitaciones solo conociendo las lecturas de las antenas. En resumen, se localizaran las piezas. "
      ],
      "metadata": {
        "id": "PI4xlhFVxv46"
      }
    },
    {
      "cell_type": "markdown",
      "source": [
        "El primer paso sera realizar un analisis exploratorio del que nos permitira entender como esta compuesto y si se necesita llevar adelante una limpieza para no perjudicar los resultados finales"
      ],
      "metadata": {
        "id": "mBkgN4IVonCR"
      }
    },
    {
      "cell_type": "markdown",
      "source": [
        "## EDA (Analisis exploratorio de datos)"
      ],
      "metadata": {
        "id": "oOISeDocEkzH"
      }
    },
    {
      "cell_type": "markdown",
      "source": [
        "Cargamos el dataframe, asignamos el nombre de las columnas y comenzamos la exploracion"
      ],
      "metadata": {
        "id": "MTMZgQrzpDyD"
      }
    },
    {
      "cell_type": "code",
      "source": [
        "import pandas as pd\n",
        "import matplotlib.pyplot as plt"
      ],
      "metadata": {
        "id": "XJ9DxTEfpmgy"
      },
      "execution_count": 113,
      "outputs": []
    },
    {
      "cell_type": "code",
      "execution_count": 114,
      "metadata": {
        "id": "2MGIqTS1pgaz"
      },
      "outputs": [],
      "source": [
        "# Carga del DF\n",
        "\n",
        "url='https://code.datasciencedojo.com/datasciencedojo/datasets/raw/master/Wireless%20Indoor%20Localization/wifi_localization.txt'\n",
        "df=pd.read_csv(url, sep='\\t', header=None)\n",
        "columnas=['WIFI1','WIFI2','WIFI3','WIFI4','WIFI5','WIFI6','WIFI7', 'ROOM']\n",
        "mapeocolumnas=dict(zip(df.columns,columnas))\n",
        "df=df.rename(columns=mapeocolumnas)"
      ]
    },
    {
      "cell_type": "code",
      "source": [
        "#Muestra de 10 filas aleatorias del DF\n",
        "\n",
        "df.sample(10)"
      ],
      "metadata": {
        "colab": {
          "base_uri": "https://localhost:8080/",
          "height": 363
        },
        "id": "oZcYn-kNqQQ0",
        "outputId": "2a278543-260e-4b6e-b332-9b14922495ed"
      },
      "execution_count": 115,
      "outputs": [
        {
          "output_type": "execute_result",
          "data": {
            "text/plain": [
              "      WIFI1  WIFI2  WIFI3  WIFI4  WIFI5  WIFI6  WIFI7  ROOM\n",
              "1420    -47    -57    -52    -44    -67    -78    -75     3\n",
              "1219    -51    -56    -60    -48    -60    -86    -83     3\n",
              "1350    -52    -56    -52    -50    -65    -86    -84     3\n",
              "1257    -51    -47    -50    -49    -59    -80    -85     3\n",
              "1655    -63    -58    -47    -66    -48    -93    -92     4\n",
              "1609    -64    -59    -52    -65    -50    -88    -85     4\n",
              "774     -17    -53    -57    -17    -70    -77    -73     2\n",
              "1082    -50    -56    -48    -48    -63    -80    -91     3\n",
              "1144    -52    -58    -51    -53    -60    -80    -80     3\n",
              "1677    -69    -52    -48    -66    -48    -88    -87     4"
            ],
            "text/html": [
              "\n",
              "  <div id=\"df-199f584c-1717-404e-9898-0e8c01d219a3\">\n",
              "    <div class=\"colab-df-container\">\n",
              "      <div>\n",
              "<style scoped>\n",
              "    .dataframe tbody tr th:only-of-type {\n",
              "        vertical-align: middle;\n",
              "    }\n",
              "\n",
              "    .dataframe tbody tr th {\n",
              "        vertical-align: top;\n",
              "    }\n",
              "\n",
              "    .dataframe thead th {\n",
              "        text-align: right;\n",
              "    }\n",
              "</style>\n",
              "<table border=\"1\" class=\"dataframe\">\n",
              "  <thead>\n",
              "    <tr style=\"text-align: right;\">\n",
              "      <th></th>\n",
              "      <th>WIFI1</th>\n",
              "      <th>WIFI2</th>\n",
              "      <th>WIFI3</th>\n",
              "      <th>WIFI4</th>\n",
              "      <th>WIFI5</th>\n",
              "      <th>WIFI6</th>\n",
              "      <th>WIFI7</th>\n",
              "      <th>ROOM</th>\n",
              "    </tr>\n",
              "  </thead>\n",
              "  <tbody>\n",
              "    <tr>\n",
              "      <th>1420</th>\n",
              "      <td>-47</td>\n",
              "      <td>-57</td>\n",
              "      <td>-52</td>\n",
              "      <td>-44</td>\n",
              "      <td>-67</td>\n",
              "      <td>-78</td>\n",
              "      <td>-75</td>\n",
              "      <td>3</td>\n",
              "    </tr>\n",
              "    <tr>\n",
              "      <th>1219</th>\n",
              "      <td>-51</td>\n",
              "      <td>-56</td>\n",
              "      <td>-60</td>\n",
              "      <td>-48</td>\n",
              "      <td>-60</td>\n",
              "      <td>-86</td>\n",
              "      <td>-83</td>\n",
              "      <td>3</td>\n",
              "    </tr>\n",
              "    <tr>\n",
              "      <th>1350</th>\n",
              "      <td>-52</td>\n",
              "      <td>-56</td>\n",
              "      <td>-52</td>\n",
              "      <td>-50</td>\n",
              "      <td>-65</td>\n",
              "      <td>-86</td>\n",
              "      <td>-84</td>\n",
              "      <td>3</td>\n",
              "    </tr>\n",
              "    <tr>\n",
              "      <th>1257</th>\n",
              "      <td>-51</td>\n",
              "      <td>-47</td>\n",
              "      <td>-50</td>\n",
              "      <td>-49</td>\n",
              "      <td>-59</td>\n",
              "      <td>-80</td>\n",
              "      <td>-85</td>\n",
              "      <td>3</td>\n",
              "    </tr>\n",
              "    <tr>\n",
              "      <th>1655</th>\n",
              "      <td>-63</td>\n",
              "      <td>-58</td>\n",
              "      <td>-47</td>\n",
              "      <td>-66</td>\n",
              "      <td>-48</td>\n",
              "      <td>-93</td>\n",
              "      <td>-92</td>\n",
              "      <td>4</td>\n",
              "    </tr>\n",
              "    <tr>\n",
              "      <th>1609</th>\n",
              "      <td>-64</td>\n",
              "      <td>-59</td>\n",
              "      <td>-52</td>\n",
              "      <td>-65</td>\n",
              "      <td>-50</td>\n",
              "      <td>-88</td>\n",
              "      <td>-85</td>\n",
              "      <td>4</td>\n",
              "    </tr>\n",
              "    <tr>\n",
              "      <th>774</th>\n",
              "      <td>-17</td>\n",
              "      <td>-53</td>\n",
              "      <td>-57</td>\n",
              "      <td>-17</td>\n",
              "      <td>-70</td>\n",
              "      <td>-77</td>\n",
              "      <td>-73</td>\n",
              "      <td>2</td>\n",
              "    </tr>\n",
              "    <tr>\n",
              "      <th>1082</th>\n",
              "      <td>-50</td>\n",
              "      <td>-56</td>\n",
              "      <td>-48</td>\n",
              "      <td>-48</td>\n",
              "      <td>-63</td>\n",
              "      <td>-80</td>\n",
              "      <td>-91</td>\n",
              "      <td>3</td>\n",
              "    </tr>\n",
              "    <tr>\n",
              "      <th>1144</th>\n",
              "      <td>-52</td>\n",
              "      <td>-58</td>\n",
              "      <td>-51</td>\n",
              "      <td>-53</td>\n",
              "      <td>-60</td>\n",
              "      <td>-80</td>\n",
              "      <td>-80</td>\n",
              "      <td>3</td>\n",
              "    </tr>\n",
              "    <tr>\n",
              "      <th>1677</th>\n",
              "      <td>-69</td>\n",
              "      <td>-52</td>\n",
              "      <td>-48</td>\n",
              "      <td>-66</td>\n",
              "      <td>-48</td>\n",
              "      <td>-88</td>\n",
              "      <td>-87</td>\n",
              "      <td>4</td>\n",
              "    </tr>\n",
              "  </tbody>\n",
              "</table>\n",
              "</div>\n",
              "      <button class=\"colab-df-convert\" onclick=\"convertToInteractive('df-199f584c-1717-404e-9898-0e8c01d219a3')\"\n",
              "              title=\"Convert this dataframe to an interactive table.\"\n",
              "              style=\"display:none;\">\n",
              "        \n",
              "  <svg xmlns=\"http://www.w3.org/2000/svg\" height=\"24px\"viewBox=\"0 0 24 24\"\n",
              "       width=\"24px\">\n",
              "    <path d=\"M0 0h24v24H0V0z\" fill=\"none\"/>\n",
              "    <path d=\"M18.56 5.44l.94 2.06.94-2.06 2.06-.94-2.06-.94-.94-2.06-.94 2.06-2.06.94zm-11 1L8.5 8.5l.94-2.06 2.06-.94-2.06-.94L8.5 2.5l-.94 2.06-2.06.94zm10 10l.94 2.06.94-2.06 2.06-.94-2.06-.94-.94-2.06-.94 2.06-2.06.94z\"/><path d=\"M17.41 7.96l-1.37-1.37c-.4-.4-.92-.59-1.43-.59-.52 0-1.04.2-1.43.59L10.3 9.45l-7.72 7.72c-.78.78-.78 2.05 0 2.83L4 21.41c.39.39.9.59 1.41.59.51 0 1.02-.2 1.41-.59l7.78-7.78 2.81-2.81c.8-.78.8-2.07 0-2.86zM5.41 20L4 18.59l7.72-7.72 1.47 1.35L5.41 20z\"/>\n",
              "  </svg>\n",
              "      </button>\n",
              "      \n",
              "  <style>\n",
              "    .colab-df-container {\n",
              "      display:flex;\n",
              "      flex-wrap:wrap;\n",
              "      gap: 12px;\n",
              "    }\n",
              "\n",
              "    .colab-df-convert {\n",
              "      background-color: #E8F0FE;\n",
              "      border: none;\n",
              "      border-radius: 50%;\n",
              "      cursor: pointer;\n",
              "      display: none;\n",
              "      fill: #1967D2;\n",
              "      height: 32px;\n",
              "      padding: 0 0 0 0;\n",
              "      width: 32px;\n",
              "    }\n",
              "\n",
              "    .colab-df-convert:hover {\n",
              "      background-color: #E2EBFA;\n",
              "      box-shadow: 0px 1px 2px rgba(60, 64, 67, 0.3), 0px 1px 3px 1px rgba(60, 64, 67, 0.15);\n",
              "      fill: #174EA6;\n",
              "    }\n",
              "\n",
              "    [theme=dark] .colab-df-convert {\n",
              "      background-color: #3B4455;\n",
              "      fill: #D2E3FC;\n",
              "    }\n",
              "\n",
              "    [theme=dark] .colab-df-convert:hover {\n",
              "      background-color: #434B5C;\n",
              "      box-shadow: 0px 1px 3px 1px rgba(0, 0, 0, 0.15);\n",
              "      filter: drop-shadow(0px 1px 2px rgba(0, 0, 0, 0.3));\n",
              "      fill: #FFFFFF;\n",
              "    }\n",
              "  </style>\n",
              "\n",
              "      <script>\n",
              "        const buttonEl =\n",
              "          document.querySelector('#df-199f584c-1717-404e-9898-0e8c01d219a3 button.colab-df-convert');\n",
              "        buttonEl.style.display =\n",
              "          google.colab.kernel.accessAllowed ? 'block' : 'none';\n",
              "\n",
              "        async function convertToInteractive(key) {\n",
              "          const element = document.querySelector('#df-199f584c-1717-404e-9898-0e8c01d219a3');\n",
              "          const dataTable =\n",
              "            await google.colab.kernel.invokeFunction('convertToInteractive',\n",
              "                                                     [key], {});\n",
              "          if (!dataTable) return;\n",
              "\n",
              "          const docLinkHtml = 'Like what you see? Visit the ' +\n",
              "            '<a target=\"_blank\" href=https://colab.research.google.com/notebooks/data_table.ipynb>data table notebook</a>'\n",
              "            + ' to learn more about interactive tables.';\n",
              "          element.innerHTML = '';\n",
              "          dataTable['output_type'] = 'display_data';\n",
              "          await google.colab.output.renderOutput(dataTable, element);\n",
              "          const docLink = document.createElement('div');\n",
              "          docLink.innerHTML = docLinkHtml;\n",
              "          element.appendChild(docLink);\n",
              "        }\n",
              "      </script>\n",
              "    </div>\n",
              "  </div>\n",
              "  "
            ]
          },
          "metadata": {},
          "execution_count": 115
        }
      ]
    },
    {
      "cell_type": "code",
      "source": [
        "# Informacion sobre sus columnas y las entradas de datos\n",
        "\n",
        "df.info()"
      ],
      "metadata": {
        "colab": {
          "base_uri": "https://localhost:8080/"
        },
        "id": "lU50apV_t0tn",
        "outputId": "d0f2f3d3-371c-4519-e545-172fb3290bab"
      },
      "execution_count": 116,
      "outputs": [
        {
          "output_type": "stream",
          "name": "stdout",
          "text": [
            "<class 'pandas.core.frame.DataFrame'>\n",
            "RangeIndex: 2000 entries, 0 to 1999\n",
            "Data columns (total 8 columns):\n",
            " #   Column  Non-Null Count  Dtype\n",
            "---  ------  --------------  -----\n",
            " 0   WIFI1   2000 non-null   int64\n",
            " 1   WIFI2   2000 non-null   int64\n",
            " 2   WIFI3   2000 non-null   int64\n",
            " 3   WIFI4   2000 non-null   int64\n",
            " 4   WIFI5   2000 non-null   int64\n",
            " 5   WIFI6   2000 non-null   int64\n",
            " 6   WIFI7   2000 non-null   int64\n",
            " 7   ROOM    2000 non-null   int64\n",
            "dtypes: int64(8)\n",
            "memory usage: 125.1 KB\n"
          ]
        }
      ]
    },
    {
      "cell_type": "code",
      "source": [
        "# Datos estadisticos basicos para tener una idea del conjunto de datos\n",
        "\n",
        "df.describe()"
      ],
      "metadata": {
        "colab": {
          "base_uri": "https://localhost:8080/",
          "height": 300
        },
        "id": "hKbY-ybyqX13",
        "outputId": "67cf4f3d-263b-464a-de1b-bace11aa34a3"
      },
      "execution_count": 117,
      "outputs": [
        {
          "output_type": "execute_result",
          "data": {
            "text/plain": [
              "             WIFI1        WIFI2        WIFI3        WIFI4        WIFI5  \\\n",
              "count  2000.000000  2000.000000  2000.000000  2000.000000  2000.000000   \n",
              "mean    -52.330500   -55.623500   -54.964000   -53.566500   -62.640500   \n",
              "std      11.321677     3.417688     5.316186    11.471982     9.105093   \n",
              "min     -74.000000   -74.000000   -73.000000   -77.000000   -89.000000   \n",
              "25%     -61.000000   -58.000000   -58.000000   -63.000000   -69.000000   \n",
              "50%     -55.000000   -56.000000   -55.000000   -56.000000   -64.000000   \n",
              "75%     -46.000000   -53.000000   -51.000000   -46.000000   -56.000000   \n",
              "max     -10.000000   -45.000000   -40.000000   -11.000000   -36.000000   \n",
              "\n",
              "             WIFI6        WIFI7         ROOM  \n",
              "count  2000.000000  2000.000000  2000.000000  \n",
              "mean    -80.985000   -81.726500     2.500000  \n",
              "std       6.516672     6.519812     1.118314  \n",
              "min     -97.000000   -98.000000     1.000000  \n",
              "25%     -86.000000   -87.000000     1.750000  \n",
              "50%     -82.000000   -83.000000     2.500000  \n",
              "75%     -77.000000   -78.000000     3.250000  \n",
              "max     -61.000000   -63.000000     4.000000  "
            ],
            "text/html": [
              "\n",
              "  <div id=\"df-cf7ca6d7-8ab1-46a6-8be8-974b82afe5e2\">\n",
              "    <div class=\"colab-df-container\">\n",
              "      <div>\n",
              "<style scoped>\n",
              "    .dataframe tbody tr th:only-of-type {\n",
              "        vertical-align: middle;\n",
              "    }\n",
              "\n",
              "    .dataframe tbody tr th {\n",
              "        vertical-align: top;\n",
              "    }\n",
              "\n",
              "    .dataframe thead th {\n",
              "        text-align: right;\n",
              "    }\n",
              "</style>\n",
              "<table border=\"1\" class=\"dataframe\">\n",
              "  <thead>\n",
              "    <tr style=\"text-align: right;\">\n",
              "      <th></th>\n",
              "      <th>WIFI1</th>\n",
              "      <th>WIFI2</th>\n",
              "      <th>WIFI3</th>\n",
              "      <th>WIFI4</th>\n",
              "      <th>WIFI5</th>\n",
              "      <th>WIFI6</th>\n",
              "      <th>WIFI7</th>\n",
              "      <th>ROOM</th>\n",
              "    </tr>\n",
              "  </thead>\n",
              "  <tbody>\n",
              "    <tr>\n",
              "      <th>count</th>\n",
              "      <td>2000.000000</td>\n",
              "      <td>2000.000000</td>\n",
              "      <td>2000.000000</td>\n",
              "      <td>2000.000000</td>\n",
              "      <td>2000.000000</td>\n",
              "      <td>2000.000000</td>\n",
              "      <td>2000.000000</td>\n",
              "      <td>2000.000000</td>\n",
              "    </tr>\n",
              "    <tr>\n",
              "      <th>mean</th>\n",
              "      <td>-52.330500</td>\n",
              "      <td>-55.623500</td>\n",
              "      <td>-54.964000</td>\n",
              "      <td>-53.566500</td>\n",
              "      <td>-62.640500</td>\n",
              "      <td>-80.985000</td>\n",
              "      <td>-81.726500</td>\n",
              "      <td>2.500000</td>\n",
              "    </tr>\n",
              "    <tr>\n",
              "      <th>std</th>\n",
              "      <td>11.321677</td>\n",
              "      <td>3.417688</td>\n",
              "      <td>5.316186</td>\n",
              "      <td>11.471982</td>\n",
              "      <td>9.105093</td>\n",
              "      <td>6.516672</td>\n",
              "      <td>6.519812</td>\n",
              "      <td>1.118314</td>\n",
              "    </tr>\n",
              "    <tr>\n",
              "      <th>min</th>\n",
              "      <td>-74.000000</td>\n",
              "      <td>-74.000000</td>\n",
              "      <td>-73.000000</td>\n",
              "      <td>-77.000000</td>\n",
              "      <td>-89.000000</td>\n",
              "      <td>-97.000000</td>\n",
              "      <td>-98.000000</td>\n",
              "      <td>1.000000</td>\n",
              "    </tr>\n",
              "    <tr>\n",
              "      <th>25%</th>\n",
              "      <td>-61.000000</td>\n",
              "      <td>-58.000000</td>\n",
              "      <td>-58.000000</td>\n",
              "      <td>-63.000000</td>\n",
              "      <td>-69.000000</td>\n",
              "      <td>-86.000000</td>\n",
              "      <td>-87.000000</td>\n",
              "      <td>1.750000</td>\n",
              "    </tr>\n",
              "    <tr>\n",
              "      <th>50%</th>\n",
              "      <td>-55.000000</td>\n",
              "      <td>-56.000000</td>\n",
              "      <td>-55.000000</td>\n",
              "      <td>-56.000000</td>\n",
              "      <td>-64.000000</td>\n",
              "      <td>-82.000000</td>\n",
              "      <td>-83.000000</td>\n",
              "      <td>2.500000</td>\n",
              "    </tr>\n",
              "    <tr>\n",
              "      <th>75%</th>\n",
              "      <td>-46.000000</td>\n",
              "      <td>-53.000000</td>\n",
              "      <td>-51.000000</td>\n",
              "      <td>-46.000000</td>\n",
              "      <td>-56.000000</td>\n",
              "      <td>-77.000000</td>\n",
              "      <td>-78.000000</td>\n",
              "      <td>3.250000</td>\n",
              "    </tr>\n",
              "    <tr>\n",
              "      <th>max</th>\n",
              "      <td>-10.000000</td>\n",
              "      <td>-45.000000</td>\n",
              "      <td>-40.000000</td>\n",
              "      <td>-11.000000</td>\n",
              "      <td>-36.000000</td>\n",
              "      <td>-61.000000</td>\n",
              "      <td>-63.000000</td>\n",
              "      <td>4.000000</td>\n",
              "    </tr>\n",
              "  </tbody>\n",
              "</table>\n",
              "</div>\n",
              "      <button class=\"colab-df-convert\" onclick=\"convertToInteractive('df-cf7ca6d7-8ab1-46a6-8be8-974b82afe5e2')\"\n",
              "              title=\"Convert this dataframe to an interactive table.\"\n",
              "              style=\"display:none;\">\n",
              "        \n",
              "  <svg xmlns=\"http://www.w3.org/2000/svg\" height=\"24px\"viewBox=\"0 0 24 24\"\n",
              "       width=\"24px\">\n",
              "    <path d=\"M0 0h24v24H0V0z\" fill=\"none\"/>\n",
              "    <path d=\"M18.56 5.44l.94 2.06.94-2.06 2.06-.94-2.06-.94-.94-2.06-.94 2.06-2.06.94zm-11 1L8.5 8.5l.94-2.06 2.06-.94-2.06-.94L8.5 2.5l-.94 2.06-2.06.94zm10 10l.94 2.06.94-2.06 2.06-.94-2.06-.94-.94-2.06-.94 2.06-2.06.94z\"/><path d=\"M17.41 7.96l-1.37-1.37c-.4-.4-.92-.59-1.43-.59-.52 0-1.04.2-1.43.59L10.3 9.45l-7.72 7.72c-.78.78-.78 2.05 0 2.83L4 21.41c.39.39.9.59 1.41.59.51 0 1.02-.2 1.41-.59l7.78-7.78 2.81-2.81c.8-.78.8-2.07 0-2.86zM5.41 20L4 18.59l7.72-7.72 1.47 1.35L5.41 20z\"/>\n",
              "  </svg>\n",
              "      </button>\n",
              "      \n",
              "  <style>\n",
              "    .colab-df-container {\n",
              "      display:flex;\n",
              "      flex-wrap:wrap;\n",
              "      gap: 12px;\n",
              "    }\n",
              "\n",
              "    .colab-df-convert {\n",
              "      background-color: #E8F0FE;\n",
              "      border: none;\n",
              "      border-radius: 50%;\n",
              "      cursor: pointer;\n",
              "      display: none;\n",
              "      fill: #1967D2;\n",
              "      height: 32px;\n",
              "      padding: 0 0 0 0;\n",
              "      width: 32px;\n",
              "    }\n",
              "\n",
              "    .colab-df-convert:hover {\n",
              "      background-color: #E2EBFA;\n",
              "      box-shadow: 0px 1px 2px rgba(60, 64, 67, 0.3), 0px 1px 3px 1px rgba(60, 64, 67, 0.15);\n",
              "      fill: #174EA6;\n",
              "    }\n",
              "\n",
              "    [theme=dark] .colab-df-convert {\n",
              "      background-color: #3B4455;\n",
              "      fill: #D2E3FC;\n",
              "    }\n",
              "\n",
              "    [theme=dark] .colab-df-convert:hover {\n",
              "      background-color: #434B5C;\n",
              "      box-shadow: 0px 1px 3px 1px rgba(0, 0, 0, 0.15);\n",
              "      filter: drop-shadow(0px 1px 2px rgba(0, 0, 0, 0.3));\n",
              "      fill: #FFFFFF;\n",
              "    }\n",
              "  </style>\n",
              "\n",
              "      <script>\n",
              "        const buttonEl =\n",
              "          document.querySelector('#df-cf7ca6d7-8ab1-46a6-8be8-974b82afe5e2 button.colab-df-convert');\n",
              "        buttonEl.style.display =\n",
              "          google.colab.kernel.accessAllowed ? 'block' : 'none';\n",
              "\n",
              "        async function convertToInteractive(key) {\n",
              "          const element = document.querySelector('#df-cf7ca6d7-8ab1-46a6-8be8-974b82afe5e2');\n",
              "          const dataTable =\n",
              "            await google.colab.kernel.invokeFunction('convertToInteractive',\n",
              "                                                     [key], {});\n",
              "          if (!dataTable) return;\n",
              "\n",
              "          const docLinkHtml = 'Like what you see? Visit the ' +\n",
              "            '<a target=\"_blank\" href=https://colab.research.google.com/notebooks/data_table.ipynb>data table notebook</a>'\n",
              "            + ' to learn more about interactive tables.';\n",
              "          element.innerHTML = '';\n",
              "          dataTable['output_type'] = 'display_data';\n",
              "          await google.colab.output.renderOutput(dataTable, element);\n",
              "          const docLink = document.createElement('div');\n",
              "          docLink.innerHTML = docLinkHtml;\n",
              "          element.appendChild(docLink);\n",
              "        }\n",
              "      </script>\n",
              "    </div>\n",
              "  </div>\n",
              "  "
            ]
          },
          "metadata": {},
          "execution_count": 117
        }
      ]
    },
    {
      "cell_type": "code",
      "source": [
        "# Observamos las habitaciones y la cantidad de muestras que hay en las mismas\n",
        "\n",
        "df.ROOM.value_counts()"
      ],
      "metadata": {
        "colab": {
          "base_uri": "https://localhost:8080/"
        },
        "id": "3dHgCpH7t3A7",
        "outputId": "93637584-a6c6-44c1-eed1-9647a7015023"
      },
      "execution_count": 118,
      "outputs": [
        {
          "output_type": "execute_result",
          "data": {
            "text/plain": [
              "1    500\n",
              "2    500\n",
              "3    500\n",
              "4    500\n",
              "Name: ROOM, dtype: int64"
            ]
          },
          "metadata": {},
          "execution_count": 118
        }
      ]
    },
    {
      "cell_type": "code",
      "source": [
        "# Contamos si existen valores nulos por columna\n",
        "\n",
        "df.isnull().sum()"
      ],
      "metadata": {
        "colab": {
          "base_uri": "https://localhost:8080/"
        },
        "id": "zn5jH4iIuFmj",
        "outputId": "ffb36606-2d02-4a7e-ccbd-acc143b0e672"
      },
      "execution_count": 119,
      "outputs": [
        {
          "output_type": "execute_result",
          "data": {
            "text/plain": [
              "WIFI1    0\n",
              "WIFI2    0\n",
              "WIFI3    0\n",
              "WIFI4    0\n",
              "WIFI5    0\n",
              "WIFI6    0\n",
              "WIFI7    0\n",
              "ROOM     0\n",
              "dtype: int64"
            ]
          },
          "metadata": {},
          "execution_count": 119
        }
      ]
    },
    {
      "cell_type": "code",
      "source": [
        "# Vemos las medias de intensidad del WiFi por habitacion\n",
        "\n",
        "df.groupby('ROOM').mean()"
      ],
      "metadata": {
        "colab": {
          "base_uri": "https://localhost:8080/",
          "height": 206
        },
        "id": "CyHRRC0IuOJc",
        "outputId": "0503bac3-8dbf-48de-a8cd-7faca34e86ca"
      },
      "execution_count": 120,
      "outputs": [
        {
          "output_type": "execute_result",
          "data": {
            "text/plain": [
              "       WIFI1   WIFI2   WIFI3   WIFI4   WIFI5   WIFI6   WIFI7\n",
              "ROOM                                                        \n",
              "1    -62.490 -56.276 -60.520 -64.182 -70.262 -82.920 -84.026\n",
              "2    -36.924 -56.108 -55.902 -38.066 -67.614 -72.644 -73.498\n",
              "3    -49.726 -54.886 -52.784 -50.702 -63.232 -81.368 -82.392\n",
              "4    -60.182 -55.224 -50.650 -61.316 -49.454 -87.008 -86.990"
            ],
            "text/html": [
              "\n",
              "  <div id=\"df-6c2ab3b5-2062-4d58-a478-586ba03cecd7\">\n",
              "    <div class=\"colab-df-container\">\n",
              "      <div>\n",
              "<style scoped>\n",
              "    .dataframe tbody tr th:only-of-type {\n",
              "        vertical-align: middle;\n",
              "    }\n",
              "\n",
              "    .dataframe tbody tr th {\n",
              "        vertical-align: top;\n",
              "    }\n",
              "\n",
              "    .dataframe thead th {\n",
              "        text-align: right;\n",
              "    }\n",
              "</style>\n",
              "<table border=\"1\" class=\"dataframe\">\n",
              "  <thead>\n",
              "    <tr style=\"text-align: right;\">\n",
              "      <th></th>\n",
              "      <th>WIFI1</th>\n",
              "      <th>WIFI2</th>\n",
              "      <th>WIFI3</th>\n",
              "      <th>WIFI4</th>\n",
              "      <th>WIFI5</th>\n",
              "      <th>WIFI6</th>\n",
              "      <th>WIFI7</th>\n",
              "    </tr>\n",
              "    <tr>\n",
              "      <th>ROOM</th>\n",
              "      <th></th>\n",
              "      <th></th>\n",
              "      <th></th>\n",
              "      <th></th>\n",
              "      <th></th>\n",
              "      <th></th>\n",
              "      <th></th>\n",
              "    </tr>\n",
              "  </thead>\n",
              "  <tbody>\n",
              "    <tr>\n",
              "      <th>1</th>\n",
              "      <td>-62.490</td>\n",
              "      <td>-56.276</td>\n",
              "      <td>-60.520</td>\n",
              "      <td>-64.182</td>\n",
              "      <td>-70.262</td>\n",
              "      <td>-82.920</td>\n",
              "      <td>-84.026</td>\n",
              "    </tr>\n",
              "    <tr>\n",
              "      <th>2</th>\n",
              "      <td>-36.924</td>\n",
              "      <td>-56.108</td>\n",
              "      <td>-55.902</td>\n",
              "      <td>-38.066</td>\n",
              "      <td>-67.614</td>\n",
              "      <td>-72.644</td>\n",
              "      <td>-73.498</td>\n",
              "    </tr>\n",
              "    <tr>\n",
              "      <th>3</th>\n",
              "      <td>-49.726</td>\n",
              "      <td>-54.886</td>\n",
              "      <td>-52.784</td>\n",
              "      <td>-50.702</td>\n",
              "      <td>-63.232</td>\n",
              "      <td>-81.368</td>\n",
              "      <td>-82.392</td>\n",
              "    </tr>\n",
              "    <tr>\n",
              "      <th>4</th>\n",
              "      <td>-60.182</td>\n",
              "      <td>-55.224</td>\n",
              "      <td>-50.650</td>\n",
              "      <td>-61.316</td>\n",
              "      <td>-49.454</td>\n",
              "      <td>-87.008</td>\n",
              "      <td>-86.990</td>\n",
              "    </tr>\n",
              "  </tbody>\n",
              "</table>\n",
              "</div>\n",
              "      <button class=\"colab-df-convert\" onclick=\"convertToInteractive('df-6c2ab3b5-2062-4d58-a478-586ba03cecd7')\"\n",
              "              title=\"Convert this dataframe to an interactive table.\"\n",
              "              style=\"display:none;\">\n",
              "        \n",
              "  <svg xmlns=\"http://www.w3.org/2000/svg\" height=\"24px\"viewBox=\"0 0 24 24\"\n",
              "       width=\"24px\">\n",
              "    <path d=\"M0 0h24v24H0V0z\" fill=\"none\"/>\n",
              "    <path d=\"M18.56 5.44l.94 2.06.94-2.06 2.06-.94-2.06-.94-.94-2.06-.94 2.06-2.06.94zm-11 1L8.5 8.5l.94-2.06 2.06-.94-2.06-.94L8.5 2.5l-.94 2.06-2.06.94zm10 10l.94 2.06.94-2.06 2.06-.94-2.06-.94-.94-2.06-.94 2.06-2.06.94z\"/><path d=\"M17.41 7.96l-1.37-1.37c-.4-.4-.92-.59-1.43-.59-.52 0-1.04.2-1.43.59L10.3 9.45l-7.72 7.72c-.78.78-.78 2.05 0 2.83L4 21.41c.39.39.9.59 1.41.59.51 0 1.02-.2 1.41-.59l7.78-7.78 2.81-2.81c.8-.78.8-2.07 0-2.86zM5.41 20L4 18.59l7.72-7.72 1.47 1.35L5.41 20z\"/>\n",
              "  </svg>\n",
              "      </button>\n",
              "      \n",
              "  <style>\n",
              "    .colab-df-container {\n",
              "      display:flex;\n",
              "      flex-wrap:wrap;\n",
              "      gap: 12px;\n",
              "    }\n",
              "\n",
              "    .colab-df-convert {\n",
              "      background-color: #E8F0FE;\n",
              "      border: none;\n",
              "      border-radius: 50%;\n",
              "      cursor: pointer;\n",
              "      display: none;\n",
              "      fill: #1967D2;\n",
              "      height: 32px;\n",
              "      padding: 0 0 0 0;\n",
              "      width: 32px;\n",
              "    }\n",
              "\n",
              "    .colab-df-convert:hover {\n",
              "      background-color: #E2EBFA;\n",
              "      box-shadow: 0px 1px 2px rgba(60, 64, 67, 0.3), 0px 1px 3px 1px rgba(60, 64, 67, 0.15);\n",
              "      fill: #174EA6;\n",
              "    }\n",
              "\n",
              "    [theme=dark] .colab-df-convert {\n",
              "      background-color: #3B4455;\n",
              "      fill: #D2E3FC;\n",
              "    }\n",
              "\n",
              "    [theme=dark] .colab-df-convert:hover {\n",
              "      background-color: #434B5C;\n",
              "      box-shadow: 0px 1px 3px 1px rgba(0, 0, 0, 0.15);\n",
              "      filter: drop-shadow(0px 1px 2px rgba(0, 0, 0, 0.3));\n",
              "      fill: #FFFFFF;\n",
              "    }\n",
              "  </style>\n",
              "\n",
              "      <script>\n",
              "        const buttonEl =\n",
              "          document.querySelector('#df-6c2ab3b5-2062-4d58-a478-586ba03cecd7 button.colab-df-convert');\n",
              "        buttonEl.style.display =\n",
              "          google.colab.kernel.accessAllowed ? 'block' : 'none';\n",
              "\n",
              "        async function convertToInteractive(key) {\n",
              "          const element = document.querySelector('#df-6c2ab3b5-2062-4d58-a478-586ba03cecd7');\n",
              "          const dataTable =\n",
              "            await google.colab.kernel.invokeFunction('convertToInteractive',\n",
              "                                                     [key], {});\n",
              "          if (!dataTable) return;\n",
              "\n",
              "          const docLinkHtml = 'Like what you see? Visit the ' +\n",
              "            '<a target=\"_blank\" href=https://colab.research.google.com/notebooks/data_table.ipynb>data table notebook</a>'\n",
              "            + ' to learn more about interactive tables.';\n",
              "          element.innerHTML = '';\n",
              "          dataTable['output_type'] = 'display_data';\n",
              "          await google.colab.output.renderOutput(dataTable, element);\n",
              "          const docLink = document.createElement('div');\n",
              "          docLink.innerHTML = docLinkHtml;\n",
              "          element.appendChild(docLink);\n",
              "        }\n",
              "      </script>\n",
              "    </div>\n",
              "  </div>\n",
              "  "
            ]
          },
          "metadata": {},
          "execution_count": 120
        }
      ]
    },
    {
      "cell_type": "markdown",
      "source": [
        "Hasta este punto notamos tener un DataFrame limpio sin errores de carga ni valores nulos. Lo que nos permite continuar el analisis con graficos que nos dejaran ver como se comportan los datos"
      ],
      "metadata": {
        "id": "8UtzvxZYpWE4"
      }
    },
    {
      "cell_type": "code",
      "source": [
        "# Para ir conociendo realizamos un grafico de scatter plot por habitacion\n",
        "\n",
        "fig = plt.figure(figsize=(12, 8))\n",
        "\n",
        "for n in ['WIFI1','WIFI2','WIFI3','WIFI4','WIFI5','WIFI6','WIFI7']:\n",
        "  plt.scatter(df[n],df['ROOM'],label=n)\n",
        "plt.xlabel('Intensidad')\n",
        "plt.ylabel('Habitacion')\n",
        "plt.legend()\n"
      ],
      "metadata": {
        "colab": {
          "base_uri": "https://localhost:8080/",
          "height": 514
        },
        "id": "IaEVBoTd6DSY",
        "outputId": "aafcb04d-f2a4-4a1d-cd1c-4d38f8478f2d"
      },
      "execution_count": 121,
      "outputs": [
        {
          "output_type": "execute_result",
          "data": {
            "text/plain": [
              "<matplotlib.legend.Legend at 0x7f108d20d8b0>"
            ]
          },
          "metadata": {},
          "execution_count": 121
        },
        {
          "output_type": "display_data",
          "data": {
            "text/plain": [
              "<Figure size 864x576 with 1 Axes>"
            ],
            "image/png": "[encoded data removed]"
          },
          "metadata": {
            "needs_background": "light"
          }
        }
      ]
    },
    {
      "cell_type": "markdown",
      "source": [
        "Se puede observar que contamos con los datos de intensidad para las 4 habitaciones,y que parecieran tener una caracteristica de la intensidad percibida de cada antena"
      ],
      "metadata": {
        "id": "qkUBO5r6pnlS"
      }
    },
    {
      "cell_type": "code",
      "source": [
        "# Realizamos diagramas de caja por habitacion\n",
        "\n",
        "room_dict = {}\n",
        "for room in set(df['ROOM']):\n",
        "    room_dict[room] = df[df['ROOM']==room].drop('ROOM', axis=1)\n",
        "\n",
        "fig, axs = plt.subplots(nrows=1, ncols=4, figsize=(25,10))\n",
        "\n",
        "for i, (room, data) in enumerate(room_dict.items()):\n",
        "    axs[i].boxplot(data.values)\n",
        "    axs[i].set_title('Room '+str(room))\n",
        "    axs[i].set_xticklabels(['wifi'+str(j) for j in range(1,8)])\n",
        "\n",
        "plt.show()"
      ],
      "metadata": {
        "colab": {
          "base_uri": "https://localhost:8080/",
          "height": 627
        },
        "id": "NJkTGuSoSb9t",
        "outputId": "2e1c79c5-536b-4006-8336-1dece8a804b0"
      },
      "execution_count": 122,
      "outputs": [
        {
          "output_type": "display_data",
          "data": {
            "text/plain": [
              "<Figure size 1800x720 with 4 Axes>"
            ],
            "image/png": "[encoded data removed]"
          },
          "metadata": {
            "needs_background": "light"
          }
        }
      ]
    },
    {
      "cell_type": "markdown",
      "source": [
        "En el diagrama de cajas por habitacion se observa la media y el rango en el que cada WiFi afecta a las mismas, por lo que de primeras impresiones se puede clasificar las habitaciones por la señal recibida de cada antena. Por lo que se comienza elaborando un arbol de decision con la biblioteca de Sklearn y viendo su probabilidad de acierto.  "
      ],
      "metadata": {
        "id": "am3wKlCnqF2-"
      }
    },
    {
      "cell_type": "markdown",
      "source": [
        "# Arbol de decision"
      ],
      "metadata": {
        "id": "3DUaZjl-BSzd"
      }
    },
    {
      "cell_type": "markdown",
      "source": [
        "Se seleccionas las variables explicativas (Antenas de WiFi) y las objetivos (las habitaciones)"
      ],
      "metadata": {
        "id": "zzlRbP_phh_A"
      }
    },
    {
      "cell_type": "code",
      "source": [
        "explicativas=df.drop(columns='ROOM')\n",
        "objetivo=df.ROOM"
      ],
      "metadata": {
        "id": "e6JPjTwHdb4N"
      },
      "execution_count": 146,
      "outputs": []
    },
    {
      "cell_type": "markdown",
      "source": [
        "Se entrena el modelo de arbol con las variables anteriores"
      ],
      "metadata": {
        "id": "B4ITk2OkhoGw"
      }
    },
    {
      "cell_type": "code",
      "source": [
        "#se importa el modulo de interes\n",
        "from sklearn.tree import DecisionTreeClassifier\n"
      ],
      "metadata": {
        "id": "IzpW7PbUg5yV"
      },
      "execution_count": 140,
      "outputs": []
    },
    {
      "cell_type": "code",
      "source": [
        "#se carga el modelo decidiendo solo hasta un 3er nivel\n",
        "model=DecisionTreeClassifier(max_depth=3);"
      ],
      "metadata": {
        "id": "lSF2PoqHhumc"
      },
      "execution_count": 148,
      "outputs": []
    },
    {
      "cell_type": "code",
      "source": [
        "model.fit(X=explicativas, y=objetivo);"
      ],
      "metadata": {
        "id": "9eqMcPV_h5Nr"
      },
      "execution_count": 147,
      "outputs": []
    },
    {
      "cell_type": "code",
      "source": [
        "#se importan las librerias para mostrar el modelo de arbol\n",
        "\n",
        "from sklearn.tree import plot_tree\n",
        "import matplotlib.pyplot as plt"
      ],
      "metadata": {
        "id": "WbdnuXLdiGow"
      },
      "execution_count": 143,
      "outputs": []
    },
    {
      "cell_type": "code",
      "source": [
        "class_names = ['Habitación 1', 'Habitación 2', 'Habitación 3', 'Habitación 4']\n",
        "plt.figure(figsize=(20,12))\n",
        "plot_tree(decision_tree=model, feature_names=explicativas.columns, class_names=class_names, filled=True);"
      ],
      "metadata": {
        "colab": {
          "base_uri": "https://localhost:8080/",
          "height": 683
        },
        "id": "gRilxCTWidgH",
        "outputId": "b9861fd7-372e-41ab-fd3d-ed2ab831fd55"
      },
      "execution_count": 144,
      "outputs": [
        {
          "output_type": "display_data",
          "data": {
            "text/plain": [
              "<Figure size 1440x864 with 1 Axes>"
            ],
            "image/png": "[encoded data removed]"
          },
          "metadata": {
            "needs_background": "light"
          }
        }
      ]
    },
    {
      "cell_type": "code",
      "source": [
        "# Se evalua la probabilidad de acierto del modelo\n",
        "\n",
        "y_pred=model.predict(explicativas)\n",
        "df_copy=df.copy()\n",
        "df_copy['PREDICCION']=y_pred\n",
        "probabilidad=(df_copy['ROOM']==df_copy['PREDICCION']).sum()/df_copy.shape[0]\n",
        "\n",
        "print(f'El porcentaje de probabilidad de acierto de nuestro modelo es de: {probabilidad*100}%')"
      ],
      "metadata": {
        "colab": {
          "base_uri": "https://localhost:8080/"
        },
        "id": "_bXLF72t-YRH",
        "outputId": "b79f4183-20de-4fc1-ed5e-c13400399256"
      },
      "execution_count": 145,
      "outputs": [
        {
          "output_type": "stream",
          "name": "stdout",
          "text": [
            "El porcentaje de probabilidad de acierto de nuestro modelo es de: 97.3%\n"
          ]
        }
      ]
    },
    {
      "cell_type": "markdown",
      "source": [
        "### Conclusion\n",
        "El modelo de arbol concigue hasta un 97% de precision al momento de definir a que habitacion se refiere segun las intensidades de las antenas. \n",
        "Lo importante es que concigue este resultando solo utilizando algunas 3 antenas de las 7 conocidas. Lo que representa una posible optimizacion en el tamaño del dataframe "
      ],
      "metadata": {
        "id": "JZaSIHt2rwHl"
      }
    },
    {
      "cell_type": "markdown",
      "source": [
        "# KNeighborsClassifier\n",
        "Este modelo de aprendizaje supervisado agrupa las variables conocidas para poder indentificarlas.\n"
      ],
      "metadata": {
        "id": "Nk6aYKViBjF0"
      }
    },
    {
      "cell_type": "code",
      "source": [
        "import pandas as pd\n",
        "from sklearn.model_selection import train_test_split\n",
        "from sklearn.neighbors import KNeighborsClassifier\n",
        "from sklearn.metrics import accuracy_score\n",
        "\n",
        "# Separar características y etiquetas\n",
        "\n",
        "X = df.drop(columns='ROOM')\n",
        "y = df.ROOM\n",
        "\n",
        "# Dividir en conjuntos de entrenamiento y prueba\n",
        "X_train, X_test, y_train, y_test = train_test_split(X, y, test_size=0.3, random_state=42)\n",
        "\n",
        "# Entrenar un modelo de clasificación (KNN con k=3)\n",
        "knn = KNeighborsClassifier(n_neighbors=3)\n",
        "knn.fit(X_train, y_train)\n",
        "\n",
        "# Hacer predicciones en el conjunto de prueba\n",
        "y_pred = knn.predict(X_test)\n",
        "\n",
        "# Evaluar el rendimiento del modelo en el conjunto de prueba\n",
        "accuracy = accuracy_score(y_test, y_pred)\n",
        "print(\"Probabilidad de acierto del modelo es de: \", accuracy*100,'%')\n",
        "\n",
        "\n"
      ],
      "metadata": {
        "colab": {
          "base_uri": "https://localhost:8080/"
        },
        "id": "qCOprQksi2c4",
        "outputId": "d26779f0-5957-4387-8687-bb4db05be76f"
      },
      "execution_count": 130,
      "outputs": [
        {
          "output_type": "stream",
          "name": "stdout",
          "text": [
            "Probabilidad de acierto del modelo es de:  98.16666666666667 %\n"
          ]
        }
      ]
    },
    {
      "cell_type": "code",
      "source": [
        "# Analizamos el porcentaje de probabilidad de acierto\n",
        "\n",
        "y_pred=knn.predict(X)\n",
        "df_copy=df.copy()\n",
        "df_copy['PREDICCION']=y_pred\n",
        "probabilidad=(df_copy['ROOM']==df_copy['PREDICCION']).sum()/df_copy.shape[0]\n",
        "\n",
        "print(f'El porcentaje de probabilidad de acierto de nuestro modelo es de: {probabilidad*100}%')"
      ],
      "metadata": {
        "colab": {
          "base_uri": "https://localhost:8080/"
        },
        "id": "kFzzTrYCoC6Z",
        "outputId": "a0d86d47-c333-412c-9761-bf75d0dadeec"
      },
      "execution_count": 131,
      "outputs": [
        {
          "output_type": "stream",
          "name": "stdout",
          "text": [
            "El porcentaje de probabilidad de acierto de nuestro modelo es de: 98.85000000000001%\n"
          ]
        }
      ]
    },
    {
      "cell_type": "markdown",
      "source": [
        "### Conclusion\n",
        "El modelo acierta un 98% de las ocaciones con la habitacion de la que proviene la señal. Practicamente igual al modelo de arbol. Entre saber cual elegir es cuestion de recursos, generalmente este modelo KNN es conocido por ser de los mas simples. "
      ],
      "metadata": {
        "id": "b0LR378zs5Ws"
      }
    },
    {
      "cell_type": "markdown",
      "source": [
        "## Diagrama de Pareto para saber la importancia de las variables\n"
      ],
      "metadata": {
        "id": "5Y5Pwo_elJMe"
      }
    },
    {
      "cell_type": "code",
      "source": [
        "import xgboost as xgb\n",
        "import matplotlib.pyplot as plt\n",
        "import pandas as pd\n",
        "from sklearn.ensemble import RandomForestClassifier\n",
        "from sklearn.model_selection import train_test_split\n",
        "from sklearn.metrics import plot_confusion_matrix\n",
        "from sklearn.inspection import permutation_importance\n",
        "from matplotlib.ticker import PercentFormatter\n",
        "from matplotlib.ticker import MultipleLocator\n",
        "\n",
        "# Entrenar el modelo de XGBoost\n",
        "model = xgb.XGBClassifier()\n",
        "model.fit(X, y)\n",
        "\n",
        "# Obtener la importancia de las características\n",
        "importance = list(zip(explicativas.columns, model.feature_importances_))\n",
        "importance.sort(key=lambda x: x[1], reverse=True)\n",
        "sorted_features, importances = zip(*importance)\n",
        "\n",
        "cumulative_importance = np.cumsum(importances)\n",
        "total_importance = np.sum(importances)\n",
        "cumulative_percentage = 100 * cumulative_importance / total_importance\n",
        "\n",
        "fig, ax1 = plt.subplots(figsize=(10,6))\n",
        "\n",
        "color = 'tab:blue'\n",
        "ax1.bar(sorted_features, importances, color=color)\n",
        "ax1.set_xlabel('Variables')\n",
        "ax1.set_ylabel('Importancia', color=color)\n",
        "ax1.tick_params(axis='y', labelcolor=color)\n",
        "ax1.tick_params(axis='x', rotation=90)\n",
        "\n",
        "ax2 = ax1.twinx()\n",
        "\n",
        "color = 'tab:red'\n",
        "ax2.plot(sorted_features, cumulative_percentage, color=color, marker='o')\n",
        "ax2.set_ylabel('Porcentaje acumulativo de importancia', color=color)\n",
        "ax2.tick_params(axis='y', labelcolor=color)\n",
        "\n",
        "ax2.yaxis.set_major_formatter(PercentFormatter())\n",
        "ax2.yaxis.set_major_locator(MultipleLocator(10))\n",
        "\n",
        "plt.title('Diagrama de Pareto de la importancia de las variables')\n",
        "plt.show()"
      ],
      "metadata": {
        "colab": {
          "base_uri": "https://localhost:8080/",
          "height": 422
        },
        "id": "bKoYellXlLDL",
        "outputId": "92d8c7e1-13f0-4c69-98de-13c73e63121b"
      },
      "execution_count": 138,
      "outputs": [
        {
          "output_type": "display_data",
          "data": {
            "text/plain": [
              "<Figure size 720x432 with 2 Axes>"
            ],
            "image/png": "[encoded data removed]"
          },
          "metadata": {
            "needs_background": "light"
          }
        }
      ]
    },
    {
      "cell_type": "markdown",
      "source": [
        "### Conclusion\n",
        "El diagrama de Pareto nos representa como el 80% de la importancia esta dado por el 20% de las variables, en este caso 3 señales de WiFi definen en su mayor parte a las habitaciones. WiFi 1, WiFi 5, WiFi 4. \n",
        "Lo que permite reducir la dimensionalidad del DataFrame cuando se necesite optimizar la carga de datos.  "
      ],
      "metadata": {
        "id": "Ffq9dq9etbKw"
      }
    }
  ]
}